{
  "nbformat": 4,
  "nbformat_minor": 0,
  "metadata": {
    "colab": {
      "name": "CodeLeague21-Round1.ipynb",
      "provenance": [],
      "collapsed_sections": []
    },
    "kernelspec": {
      "display_name": "Python 3",
      "name": "python3"
    }
  },
  "cells": [
    {
      "cell_type": "code",
      "metadata": {
        "colab": {
          "base_uri": "https://localhost:8080/"
        },
        "id": "sETrx_UzKtSM",
        "outputId": "3c2c7724-98a5-4029-c8bd-5ba9821a993d"
      },
      "source": [
        "import matplotlib.pyplot as plt\n",
        "import pandas as pd\n",
        "import numpy as np\n",
        "from google.colab import drive\n",
        "drive.mount('/content/drive/')"
      ],
      "execution_count": 1,
      "outputs": [
        {
          "output_type": "stream",
          "text": [
            "Mounted at /content/drive/\n"
          ],
          "name": "stdout"
        }
      ]
    },
    {
      "cell_type": "code",
      "metadata": {
        "colab": {
          "base_uri": "https://localhost:8080/",
          "height": 343
        },
        "id": "1Gs63Bw9K4GH",
        "outputId": "5ba54126-d860-4b95-878e-f30b0c608cd6"
      },
      "source": [
        "contacts = pd.read_json('/content/drive/My Drive/contacts.json')\n",
        "contacts.head(10)"
      ],
      "execution_count": 2,
      "outputs": [
        {
          "output_type": "execute_result",
          "data": {
            "text/html": [
              "<div>\n",
              "<style scoped>\n",
              "    .dataframe tbody tr th:only-of-type {\n",
              "        vertical-align: middle;\n",
              "    }\n",
              "\n",
              "    .dataframe tbody tr th {\n",
              "        vertical-align: top;\n",
              "    }\n",
              "\n",
              "    .dataframe thead th {\n",
              "        text-align: right;\n",
              "    }\n",
              "</style>\n",
              "<table border=\"1\" class=\"dataframe\">\n",
              "  <thead>\n",
              "    <tr style=\"text-align: right;\">\n",
              "      <th></th>\n",
              "      <th>Id</th>\n",
              "      <th>Email</th>\n",
              "      <th>Phone</th>\n",
              "      <th>Contacts</th>\n",
              "      <th>OrderId</th>\n",
              "    </tr>\n",
              "  </thead>\n",
              "  <tbody>\n",
              "    <tr>\n",
              "      <th>0</th>\n",
              "      <td>0</td>\n",
              "      <td>gkzAbIy@qq.com</td>\n",
              "      <td></td>\n",
              "      <td>1</td>\n",
              "      <td></td>\n",
              "    </tr>\n",
              "    <tr>\n",
              "      <th>1</th>\n",
              "      <td>1</td>\n",
              "      <td></td>\n",
              "      <td>329442681752</td>\n",
              "      <td>4</td>\n",
              "      <td>vDDJJcxfLtSfkooPhbYnJdxov</td>\n",
              "    </tr>\n",
              "    <tr>\n",
              "      <th>2</th>\n",
              "      <td>2</td>\n",
              "      <td></td>\n",
              "      <td>9125983679</td>\n",
              "      <td>0</td>\n",
              "      <td></td>\n",
              "    </tr>\n",
              "    <tr>\n",
              "      <th>3</th>\n",
              "      <td>3</td>\n",
              "      <td>mdllpYmE@gmail.com</td>\n",
              "      <td></td>\n",
              "      <td>0</td>\n",
              "      <td>bHquEnCbbsGLqllwryxPsNOxa</td>\n",
              "    </tr>\n",
              "    <tr>\n",
              "      <th>4</th>\n",
              "      <td>4</td>\n",
              "      <td></td>\n",
              "      <td>300364407</td>\n",
              "      <td>2</td>\n",
              "      <td></td>\n",
              "    </tr>\n",
              "    <tr>\n",
              "      <th>5</th>\n",
              "      <td>5</td>\n",
              "      <td></td>\n",
              "      <td>840113148</td>\n",
              "      <td>0</td>\n",
              "      <td></td>\n",
              "    </tr>\n",
              "    <tr>\n",
              "      <th>6</th>\n",
              "      <td>6</td>\n",
              "      <td>hESiBgYTxMnj@hotmail.com</td>\n",
              "      <td></td>\n",
              "      <td>4</td>\n",
              "      <td></td>\n",
              "    </tr>\n",
              "    <tr>\n",
              "      <th>7</th>\n",
              "      <td>7</td>\n",
              "      <td>hqyunTiaXfIjhO@yahoo.com</td>\n",
              "      <td></td>\n",
              "      <td>1</td>\n",
              "      <td>vxjYZtMUvNhtEBDruzQfjpsmX</td>\n",
              "    </tr>\n",
              "    <tr>\n",
              "      <th>8</th>\n",
              "      <td>8</td>\n",
              "      <td>XGUjcSiDpFKWEUCs@qq.com</td>\n",
              "      <td>223604620644</td>\n",
              "      <td>2</td>\n",
              "      <td></td>\n",
              "    </tr>\n",
              "    <tr>\n",
              "      <th>9</th>\n",
              "      <td>9</td>\n",
              "      <td>osIIQgAiZX@hotmail.com</td>\n",
              "      <td></td>\n",
              "      <td>0</td>\n",
              "      <td>IqewrMXVTJqSsVklWFfOpdRNI</td>\n",
              "    </tr>\n",
              "  </tbody>\n",
              "</table>\n",
              "</div>"
            ],
            "text/plain": [
              "   Id                     Email  ... Contacts                    OrderId\n",
              "0   0            gkzAbIy@qq.com  ...        1                           \n",
              "1   1                            ...        4  vDDJJcxfLtSfkooPhbYnJdxov\n",
              "2   2                            ...        0                           \n",
              "3   3        mdllpYmE@gmail.com  ...        0  bHquEnCbbsGLqllwryxPsNOxa\n",
              "4   4                            ...        2                           \n",
              "5   5                            ...        0                           \n",
              "6   6  hESiBgYTxMnj@hotmail.com  ...        4                           \n",
              "7   7  hqyunTiaXfIjhO@yahoo.com  ...        1  vxjYZtMUvNhtEBDruzQfjpsmX\n",
              "8   8   XGUjcSiDpFKWEUCs@qq.com  ...        2                           \n",
              "9   9    osIIQgAiZX@hotmail.com  ...        0  IqewrMXVTJqSsVklWFfOpdRNI\n",
              "\n",
              "[10 rows x 5 columns]"
            ]
          },
          "metadata": {
            "tags": []
          },
          "execution_count": 2
        }
      ]
    },
    {
      "cell_type": "code",
      "metadata": {
        "id": "LaQo4DsVaYvy",
        "colab": {
          "base_uri": "https://localhost:8080/"
        },
        "outputId": "83d489ec-d3ec-4a06-d76c-f08b38dbab5f"
      },
      "source": [
        "import numpy\n",
        "import datetime\n",
        "time_start = datetime.datetime.now()\n",
        "\n",
        "memory = {}\n",
        "cluster = {}\n",
        "contacts_dict = {}\n",
        "result = {}\n",
        "def add_to_memory(user_id, value):\n",
        "  if(value != ''):\n",
        "    if(value in memory):\n",
        "      memory[value].add(user_id)\n",
        "      return\n",
        "    \n",
        "    memory[value] = {user_id}\n",
        "\n",
        "def add_to_cluster(user_id, email, phone, orderid, contacts):\n",
        "  ids = set()\n",
        "  cluster[user_id] = {100000000}\n",
        "  if(email in memory and email != ''):\n",
        "    ids.update(memory[email])\n",
        "  if(phone in memory and phone != ''):\n",
        "    ids.update(memory[phone])\n",
        "  if(orderid in memory and orderid != ''):\n",
        "    ids.update(memory[orderid])\n",
        "  for i in ids:\n",
        "    cluster[user_id].add(i)\n",
        "  cluster[user_id].remove(100000000)\n",
        "  contacts_dict[user_id] = {contacts}\n",
        "\n",
        "for row in contacts.values:\n",
        "  id = row[0]\n",
        "  add_to_memory(id, row[4])\n",
        "  add_to_memory(id, row[1])\n",
        "  add_to_memory(id, row[2])\n",
        "\n",
        "for row in contacts.values:\n",
        "  add_to_cluster(row[0], row[1], row[2], row[4], row[3])\n",
        "\n",
        "for key, value in cluster.items():\n",
        "  ids = set(value)\n",
        "  new_ids = set()\n",
        "  jumlah_contact = 0\n",
        "  for id in ids:\n",
        "    new_ids.update(cluster[id])\n",
        "  \n",
        "  susun_string = \"\"\n",
        "  for id in sorted(new_ids):\n",
        "    cluster[id] = sorted(new_ids)\n",
        "\n",
        "for key, value in cluster.items():\n",
        "  jumlah_contact = 0\n",
        "  str_result = \"\"\n",
        "  for ids in cluster[key]:\n",
        "    jumlah = list(contacts_dict[ids])[0]\n",
        "    jumlah_contact += jumlah\n",
        "    str_result += str(ids)+'-'\n",
        "  str_result = str_result[:-1]+\", \"+str(jumlah_contact)\n",
        "  result[key] = {str_result}\n",
        "\n",
        "time_end = datetime.datetime.now()\n",
        "time_range = time_end - time_start\n",
        "print(\"Proses berjalan selama: \"+str(time_range))\n",
        "  "
      ],
      "execution_count": 19,
      "outputs": [
        {
          "output_type": "stream",
          "text": [
            "Proses berjalan selama: 0:00:16.115607\n"
          ],
          "name": "stdout"
        }
      ]
    },
    {
      "cell_type": "code",
      "metadata": {
        "colab": {
          "base_uri": "https://localhost:8080/"
        },
        "id": "6wNbJ_WMZR7k",
        "outputId": "89ee88d8-c175-4bc5-91de-9b295324680d"
      },
      "source": [
        "print(result[0])\n",
        "print(result[1])\n",
        "print(result[2])\n",
        "print(result[3])\n",
        "print(result[4])\n",
        "print(result[5])\n",
        "print(result[6])\n",
        "print(result[7])\n",
        "print(result[8])\n",
        "print(result[9])"
      ],
      "execution_count": 12,
      "outputs": [
        {
          "output_type": "stream",
          "text": [
            "{'0, 1'}\n",
            "{'1-2458-98519-115061-140081-165605-476346, 12'}\n",
            "{'2-159312-322639-348955, 4'}\n",
            "{'3, 0'}\n",
            "{'4, 2'}\n",
            "{'5-50-226720-404324-458692-482810, 15'}\n",
            "{'6-38-32871-142067-236367, 13'}\n",
            "{'7, 1'}\n",
            "{'8-183160-406623, 5'}\n",
            "{'9-13-16708-33415-343161-417916-468927-484896, 8'}\n"
          ],
          "name": "stdout"
        }
      ]
    },
    {
      "cell_type": "code",
      "metadata": {
        "colab": {
          "base_uri": "https://localhost:8080/"
        },
        "id": "uZmpkWBsEAny",
        "outputId": "8849f395-cdc7-4931-f6cd-a105aabd967b"
      },
      "source": [
        "print(contacts.iloc[1])\n",
        "print(\"\\n\")\n",
        "print(contacts.iloc[2458])\n",
        "print(\"\\n\")\n",
        "print(contacts.iloc[98519])\n",
        "print(\"\\n\")\n",
        "print(contacts.iloc[115061])\n",
        "print(\"\\n\")\n",
        "print(contacts.iloc[140081])\n",
        "print(\"\\n\")\n",
        "print(contacts.iloc[165605])\n",
        "print(\"\\n\")\n",
        "print(contacts.iloc[476346])\n",
        "print(\"\\n\")"
      ],
      "execution_count": 17,
      "outputs": [
        {
          "output_type": "stream",
          "text": [
            "Id                                  1\n",
            "Email                                \n",
            "Phone                    329442681752\n",
            "Contacts                            4\n",
            "OrderId     vDDJJcxfLtSfkooPhbYnJdxov\n",
            "Name: 1, dtype: object\n",
            "\n",
            "\n",
            "Id                               2458\n",
            "Email            ULziZaVD@hotmail.com\n",
            "Phone                       069988936\n",
            "Contacts                            1\n",
            "OrderId     vDDJJcxfLtSfkooPhbYnJdxov\n",
            "Name: 2458, dtype: object\n",
            "\n",
            "\n",
            "Id                              98519\n",
            "Email            ULziZaVD@hotmail.com\n",
            "Phone                                \n",
            "Contacts                            2\n",
            "OrderId     mwVhJZGKtahXEdLMwVLcOAxXG\n",
            "Name: 98519, dtype: object\n",
            "\n",
            "\n",
            "Id                                  115061\n",
            "Email       JmMSyjzmxdelSmeAHBUi@yahoo.com\n",
            "Phone                            069988936\n",
            "Contacts                                 4\n",
            "OrderId                                   \n",
            "Name: 115061, dtype: object\n",
            "\n",
            "\n",
            "Id                        140081\n",
            "Email       xXwrpkygOe@yahoo.com\n",
            "Phone                           \n",
            "Contacts                       1\n",
            "OrderId                         \n",
            "Name: 140081, dtype: object\n",
            "\n",
            "\n",
            "Id                             165605\n",
            "Email            xXwrpkygOe@yahoo.com\n",
            "Phone                                \n",
            "Contacts                            0\n",
            "OrderId     mwVhJZGKtahXEdLMwVLcOAxXG\n",
            "Name: 165605, dtype: object\n",
            "\n",
            "\n",
            "Id                               476346\n",
            "Email       WXJDcOYGapCzchhwH@gmail.com\n",
            "Phone                                  \n",
            "Contacts                              0\n",
            "OrderId       vDDJJcxfLtSfkooPhbYnJdxov\n",
            "Name: 476346, dtype: object\n",
            "\n",
            "\n"
          ],
          "name": "stdout"
        }
      ]
    }
  ]
}